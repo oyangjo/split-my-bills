{
 "cells": [
  {
   "cell_type": "code",
   "execution_count": 91,
   "metadata": {},
   "outputs": [],
   "source": [
    "class Split_Bill():\n",
    "    def __init__(self, dic):\n",
    "        self.dic = dic\n",
    "\n",
    "    def split(self, peeps, amount):\n",
    "        '''\n",
    "        split a particular amount between a list of people\n",
    "        input:\n",
    "            peeps (list): list of people to split the amount\n",
    "            amount (float): the amount to be splitted\n",
    "        '''\n",
    "        per_person = amount/len(peeps)\n",
    "        for p in peeps:\n",
    "            self.dic[p] += per_person\n",
    "    \n",
    "    def combine(self, peeps):\n",
    "        '''\n",
    "        Combine all of the bills in the list of people and assign it to the first person in the list\n",
    "        input: \n",
    "            peeps (list): list of people\n",
    "        '''\n",
    "        amount = 0\n",
    "        for p in peeps:\n",
    "            amount += self.dic[p]\n",
    "        for p in peeps:\n",
    "            self.dic.pop(p, None)\n",
    "        self.dic[peeps[0]] = amount\n",
    "    \n",
    "    def apply_tip_in_per(self, percent):\n",
    "        per = 1+percent\n",
    "        for p in self.dic:\n",
    "            self.dic[p] *= per\n",
    "    \n",
    "    def apply_tip_in_amount(self, amount):\n",
    "        a = amount/len(self.dic)\n",
    "        for p in self.dic:\n",
    "            self.dic[p] += a\n",
    "    \n",
    "    def get_check(self):\n",
    "        return self.dic\n",
    "    \n",
    "    def get_person_check(self, name):\n",
    "        return self.dic[name]"
   ]
  },
  {
   "cell_type": "code",
   "execution_count": 97,
   "metadata": {},
   "outputs": [],
   "source": [
    "peeps = ['P1', 'P2', 'P3', 'P4', 'P5', 'P6']\n",
    "amounts = [20, 14, 18, 14, 15, 14]\n",
    "Naya = Split_Bill(dict(zip(peeps,amounts)))    #initialize our bills"
   ]
  },
  {
   "cell_type": "code",
   "execution_count": 98,
   "metadata": {},
   "outputs": [
    {
     "data": {
      "text/plain": [
       "{'P1': 43.434999999999995,\n",
       " 'P2': 28.56,\n",
       " 'P3': 41.055,\n",
       " 'P4': 36.295,\n",
       " 'P5': 37.485,\n",
       " 'P6': 28.56}"
      ]
     },
     "execution_count": 98,
     "metadata": {},
     "output_type": "execute_result"
    }
   ],
   "source": [
    "Naya.split(['P1', 'P3', 'P4', 'P5'], 26)               #splitting one dish\n",
    "Naya.split(['P1', 'P2', 'P3', 'P4', 'P5', 'P6'], 60)   #splitting Rose'\n",
    "Naya.apply_tip_in_per(0.19)\n",
    "Naya.get_check()"
   ]
  },
  {
   "cell_type": "code",
   "execution_count": 99,
   "metadata": {
    "scrolled": true
   },
   "outputs": [
    {
     "data": {
      "text/plain": [
       "{'P3': 41.055, 'P4': 36.295, 'P1': 71.99499999999999, 'P5': 66.045}"
      ]
     },
     "execution_count": 99,
     "metadata": {},
     "output_type": "execute_result"
    }
   ],
   "source": [
    "Naya.combine(['P1', 'P2'])\n",
    "Naya.combine(['P5', 'P6'])\n",
    "Naya.get_check()"
   ]
  },
  {
   "cell_type": "code",
   "execution_count": null,
   "metadata": {},
   "outputs": [],
   "source": []
  }
 ],
 "metadata": {
  "kernelspec": {
   "display_name": "Python 3",
   "language": "python",
   "name": "python3"
  },
  "language_info": {
   "codemirror_mode": {
    "name": "ipython",
    "version": 3
   },
   "file_extension": ".py",
   "mimetype": "text/x-python",
   "name": "python",
   "nbconvert_exporter": "python",
   "pygments_lexer": "ipython3",
   "version": "3.6.4"
  }
 },
 "nbformat": 4,
 "nbformat_minor": 2
}
